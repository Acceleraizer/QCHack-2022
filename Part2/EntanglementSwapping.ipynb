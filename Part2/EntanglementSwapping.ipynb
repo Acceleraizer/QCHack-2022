{
 "cells": [
  {
   "cell_type": "markdown",
   "metadata": {},
   "source": [
    "# Entanglement Teleportation and Quantum Network\n",
    "\n",
    "We explore a protocol known as \"entanglement teleportation\", where two parties, Alice and Bob, each holding a $|\\Phi^+\\rangle$ Bell state, can entangle their qubits by sending 1 qubit from Alice to Bob and performing local operations. This can be very useful when entangled pairs need to be shared over very long distances and there is a limit on how far a qubit can be transmitted before it decoheres and its useful quantum information."
   ]
  },
  {
   "cell_type": "markdown",
   "metadata": {},
   "source": [
    "The basic setup is as follows: Alice and Bob want to share an entangled Bell pair so that they can perform other quantum protocols. Normally, Alice could just prepare a Bell pair $|\\Psi^+\\rangle$ and send one of the qubits over to Bob. Unfortunately, in this case, Alice and Bob are separated by a great distance. If Alice tried to send one of the qubits to Bob, it would decohere before it reaches Bob and the resulting pair would not be entangled. \n",
    "\n",
    "Thankfully, their mutual friend Charlie is located right between Alice and Bob, and Alice and Charlie are able to exchange entangled pairs without encountering decoherence (similarly, Charlie and Bob can exchange entangled pairs freely). Is there a way to \"boost\" the entangled state through Charlie?"
   ]
  },
  {
   "cell_type": "markdown",
   "metadata": {},
   "source": [
    "## Entanglement Teleportation Protocol\n",
    "\n",
    "We use the following notation to define the Bell states:\n",
    "$$\\begin{align*} \\ket{\\Phi^+} = \\frac{1}{\\sqrt{2}}(\\ket{00}+\\ket{11}), &\\qquad \\ket{\\Phi^-} = \\frac{1}{\\sqrt{2}}(\\ket{00}-\\ket{11}) \\\\\n",
    " \\ket{\\Psi^+} = \\frac{1}{\\sqrt{2}}(\\ket{01}+\\ket{10}), &\\qquad \\ket{\\Psi^-} = \\frac{1}{\\sqrt{2}}(\\ket{01}-\\ket{10}) \\end{align*}$$\n",
    " \n",
    "Alice and Charlie each start with two qubits: Alice with qubits $q_0q_1$ and Charlie with qubits $q_2q_3$. They prepare their qubits in a Bell state, and so Alice's initial state is $|\\Phi^+\\rangle_A$ and Charlie's is $|\\Phi^+\\rangle_C$. Now, the steps of the protocol are as follows:\n",
    "\n",
    "1. Alice sends $q_1$ to Charlie\n",
    "2. Charlie makes a measurement of $q_1q_2$ in the Bell basis and records the measurement outcomes $M\\in\\{M_{\\Phi^+},M_{\\Phi^-} M_{\\Psi^+},M_{\\Psi^-}\\}$.\n",
    "3. Based on the observed measurement outcome $M$, Charlie performs single-qubit operations on $q_3$.\n",
    "The end result is that there is a Bell pair $|\\Phi^+\\rangle$ over $q_1q_2$, and another over $q_0q_3$: Alice and Charlie now share (two) entangled pairs of qubits!\n",
    "\n",
    "\n",
    "This is pretty amazing, so let's take a closer look to see how it works."
   ]
  },
  {
   "cell_type": "markdown",
   "metadata": {},
   "source": [
    "### Step 1+2\n",
    "Step 1 does nothing interesting to the quantum state (in fact we want it that way!) Let's look at what happens when Charlie makes a Bell-basis measurement. The state at the end of step 1 is as follows:\n",
    "$$|\\psi\\rangle = \\ket{\\Phi^+}_A\\ket{\\Phi^+}_C = \\left(\\frac{1}{\\sqrt{2}}(\\ket{00}+\\ket{11})_{01}\\right)\\left(\\frac{1}{\\sqrt{2}}(\\ket{00}+\\ket{11})_{23}\\right) = \\frac{1}{2}(\\ket{0000}+\\ket{0011}+\\ket{1100}+\\ket{1111})_{0123}$$\n",
    "\n",
    "Where we use subscripts to indicate which qubit the ket represents (e.g.. $\\ket{0000}_{0123}$ means the 0th through 3rd qubits are all 0). Let's rewrite the index 1 and 2 qubits in the Bell basis. Using identities such as $\\ket{00} = \\frac{1}{\\sqrt{2}}(\\ket{\\Phi^+} + \\ket{\\Phi^-]})$, we have\n",
    "\n",
    "$$\\begin{align*}\n",
    "        &\\frac{1}{2}(\\ket{0000} + \\ket{0011} + \\ket{1100} + \\ket{1111})_{0123}\\\\\n",
    "        &= \\frac{1}{2\\sqrt{2}}(\\ket{0}_0(\\ket{\\Phi^+} +\\ket{\\Phi^-})_{12}\\ket{0}_3 + \\ket{0}_0(\\ket{\\Psi^+} + \\ket{\\Psi^-})_{12}\\ket{1}_3 + \\ket{1}_0(\\ket{\\Psi^+} -\\ket{\\Psi^-})_{12}\\ket{0}_3 +\\ket{1}_0(\\ket{\\Phi^+}-\\ket{\\Phi^-})_{12}\\ket{1}_3)\n",
    "    \\end{align*}$$\n",
    "\n",
    "This allows us to see what happens when Charlie performs the Bell-basis measurement on $q_1q_2$. When a particular outcome is measured, the superposition projects onto that outcome and is renormalized. Suppose Charlie measures $M_{\\Phi^+}$ (ie $q_1q_2$ to be in the state $\\ket{\\Phi^+}$). To compute the resultant state, we apply the projector $\\ket{\\Phi^+}_{12}\\bra{\\Phi^+}$ to the initial state. Since the distinct Bell states are orthogonal to each other (check this!), we only keep terms that have $\\ket{\\Phi^+}$ in them, and we get:\n",
    "$$\\begin{align*} \\ket{\\psi^{(\\Phi^+)}}&:=\\ket{\\Phi^+}_{12}\\bra{\\Phi^+}\\frac{1}{2\\sqrt{2}}(\\ket{0}_0(\\ket{\\Phi^+} +\\ket{\\Phi^-})_{12}\\ket{0}_3 + \\ket{0}_0(\\ket{\\Psi^+} + \\ket{\\Psi^-})_{12}\\ket{1}_3 + \\ket{1}_0(\\ket{\\Psi^+} -\\ket{\\Psi^-})_{12}\\ket{0}_3 +\\ket{1}_0(\\ket{\\Phi^+}-\\ket{\\Phi^-})_{12}\\ket{1}_3) \\\\\n",
    "&= \\frac{1}{\\sqrt{2}}(\\ket{0}_0\\ket{\\Phi^+}_{12}\\ket{0}_3 + \\ket{1}_0\\ket{\\Phi^+}_{12}\\ket{1}_3)\\\\\n",
    "&= \\frac{1}{\\sqrt{2}}(\\ket{00}_{03}\\ket{\\Phi^+}_{12} + \\ket{11}_{03}\\ket{\\Phi^+}_{12})\\\\\n",
    "&= \\ket{\\Phi^+}_{03}\\ket{\\Psi^+}_{12}\n",
    "\\end{align*}\n",
    "$$\n",
    "\n",
    "The calculation shows that we still have two pair of entangled Bell states, but the entanglement is over a different pair of qubits! Notice how Alice's $q_0$ is now entangled with Charlie's $q_3$, while originally it was entangled with $q_1$.\n",
    "\n",
    "Things are slightly different if Charlie measurement yields a different result. Without going into the details of the derivation, the resultant state after Charlie measures the other possible Bell states are as follow:\n",
    "$$\n",
    "\\begin{align*}\n",
    "\\ket{\\psi^{(\\Phi^+)}}\n",
    "        &= \\ket{\\Phi^-}_{03}\\ket{\\Phi^-}_{12} \\\\\n",
    "        \\ket{\\psi^{(\\Psi^+)}}\n",
    "        &= \\ket{\\Psi^+}_{03}\\ket{\\Psi^+}_{12}\\\\\n",
    "        \\ket{\\psi^{(\\Psi^-)}}\n",
    "        &= \\ket{\\Psi^-}_{03}\\ket{\\Psi^-}_{12}\n",
    "\\end{align*}\n",
    "$$\n",
    "The entanglement is still transferred to the pairs $q_0q_3$ and $q_1q_2$, but the Bell states are different! While this is technically fine for a 1-stage protocol, we need something better if we want to do muliple rounds of teleportation. Therefore we need the 3rd step."
   ]
  },
  {
   "cell_type": "markdown",
   "metadata": {},
   "source": [
    "### Step 3\n",
    "\n",
    "In order for the protocol to be extensible, we want Charlie to be able to manipulate the qubits he has so that the entangled pair $q_0q_3$ is equal to $\\ket{\\Phi^+}$. But the Bell states have the property that each can be transformed into another with just a single-qubit gate. Specifically, we have\n",
    "$$\n",
    "\\begin{align*}\n",
    "Z_3\\ket{\\Phi^-}_{03} &= Z_3\\frac{1}{\\sqrt{2}}(\\ket{00}-\\ket{11})_{03} = \\frac{1}{\\sqrt{2}}(\\ket{00}+\\ket{11})_{03} = \\ket{\\Phi^+}_{03} \\\\\n",
    "X_3\\ket{\\Psi^+}_{03} &= X_3\\frac{1}{\\sqrt{2}}(\\ket{01}+\\ket{10})_{03} = \\frac{1}{\\sqrt{2}}(\\ket{00}+\\ket{11})_{03} = \\ket{\\Phi^+}_{03} \\\\\n",
    "Z_3X_3\\ket{\\Psi^-}_{03} &= Z_3X_3\\frac{1}{\\sqrt{2}}(\\ket{01}-\\ket{10})_{03} = Z_3\\frac{1}{\\sqrt{2}}(\\ket{00}-\\ket{11})_{03} = \\ket{\\Phi^+}_{03}\n",
    "\\end{align*}\n",
    "$$\n",
    "Therefore based on Charlie's measurements, he can apply $Z_3$ and/or $X_3$ gates to his qubit $q_3$ and transform the entangled pair between Alice and Charlie to become $\\ket{\\Phi^+}$."
   ]
  },
  {
   "cell_type": "markdown",
   "metadata": {},
   "source": [
    "## Implementation : Teleporting entanglement between Alice and Charlie"
   ]
  },
  {
   "cell_type": "markdown",
   "metadata": {},
   "source": [
    "Let's start defining the relevant operators to implement this protocol. Firstly, we need a function that prepares the $\\ket{\\Phi^+}$ state from the initial all-zeros state:"
   ]
  },
  {
   "cell_type": "code",
   "execution_count": 1,
   "metadata": {},
   "outputs": [
    {
     "data": {
      "application/x-qsharp-data": "[\"PreparePhiPlus\"]",
      "text/html": [
       "<ul><li>PreparePhiPlus</li></ul>"
      ],
      "text/plain": [
       "PreparePhiPlus"
      ]
     },
     "execution_count": 1,
     "metadata": {},
     "output_type": "execute_result"
    }
   ],
   "source": [
    "operation PreparePhiPlus (x0 : Qubit, x1 : Qubit) : Unit is Adj + Ctl {\n",
    "    H(x0);\n",
    "    CX(x0, x1);\n",
    "}"
   ]
  },
  {
   "cell_type": "markdown",
   "metadata": {},
   "source": [
    "We also need to implement the Bell measurement as well as the subsequent single-qubit operations by Charlie. We will do both in the same function.\n",
    "1. For the Bell basis measurement, we call the Adjoint of PreparePhiPlus to bring the Bell basis back into the standard basis. We can check how the states map:\n",
    "$$\n",
    "\\begin{align*} \n",
    "H_1CX_{12}\\ket{\\Phi^+} &= \\frac{1}{\\sqrt{2}}H_1CX_{12}(\\ket{00}+\\ket{11})_{12} = \\frac{1}{\\sqrt{2}}H_1(\\ket{00}+\\ket{10})_{12} = \\ket{00}_{12} \\\\\n",
    "H_1CX_{12}\\ket{\\Phi^-} &= \\frac{1}{\\sqrt{2}}H_1CX_{12}(\\ket{00}-\\ket{11})_{12} = \\frac{1}{\\sqrt{2}}H_1(\\ket{00}-\\ket{10})_{12} = \\ket{10}_{12} \\\\\n",
    "H_1CX_{12}\\ket{\\Psi^+} &= \\frac{1}{\\sqrt{2}}H_1CX_{12}(\\ket{01}+\\ket{10})_{12} = \\frac{1}{\\sqrt{2}}H_1(\\ket{01}+\\ket{11})_{12} = \\ket{01}_{12} \\\\\n",
    "H_1CX_{12}\\ket{\\Psi^-} &= \\frac{1}{\\sqrt{2}}H_1CX_{12}(\\ket{01}-\\ket{10})_{12} = \\frac{1}{\\sqrt{2}}H_1(\\ket{01}-\\ket{11})_{12} = \\ket{11}_{12}\n",
    "\\end{align*}\n",
    "$$\n",
    "Then using the measurement in the standard basis, we can figure out which Bell state the measurement corresponds to and apply the appropriate single-qubit gates to $q_3$ according to Step 3:"
   ]
  },
  {
   "cell_type": "code",
   "execution_count": 2,
   "metadata": {},
   "outputs": [
    {
     "data": {
      "application/x-qsharp-data": "[\"TeleportOnce\"]",
      "text/html": [
       "<ul><li>TeleportOnce</li></ul>"
      ],
      "text/plain": [
       "TeleportOnce"
      ]
     },
     "execution_count": 2,
     "metadata": {},
     "output_type": "execute_result"
    }
   ],
   "source": [
    "operation TeleportOnce (x0 : Qubit, x1: Qubit, x2: Qubit, x3: Qubit) : Unit {\n",
    "    Adjoint PreparePhiPlus(x1, x2);\n",
    "    if (M(x1) == One) {\n",
    "        Z(x3);\n",
    "    }\n",
    "    if (M(x2) == One) {\n",
    "        X(x3);\n",
    "    }\n",
    "}"
   ]
  },
  {
   "cell_type": "markdown",
   "metadata": {},
   "source": [
    "Finally, we can write a simple function that implements the protocol for Alice and Charlie. We also write a function that repeats the protocol $n$ times and then collates the measurement results."
   ]
  },
  {
   "cell_type": "code",
   "execution_count": 15,
   "metadata": {},
   "outputs": [
    {
     "name": "stdout",
     "output_type": "stream",
     "text": [
      "c:\\snippet_.qs(17,22): warning QS3308: Deprecated syntax. Use [] to construct an empty array, or [x, size = n] to construct an array of x repeated n times.\n"
     ]
    },
    {
     "data": {
      "application/x-qsharp-data": "[\"EntanglementSwapDemo\",\"RepeatDemo\"]",
      "text/html": [
       "<ul><li>EntanglementSwapDemo</li><li>RepeatDemo</li></ul>"
      ],
      "text/plain": [
       "EntanglementSwapDemo, RepeatDemo"
      ]
     },
     "execution_count": 15,
     "metadata": {},
     "output_type": "execute_result"
    }
   ],
   "source": [
    "operation EntanglementSwapDemo() : Result[] {\n",
    "    // Step 0 : Bell state initialization\n",
    "    use (Alice, Charlie) = (Qubit[2], Qubit[2]);\n",
    "    PreparePhiPlus(Alice[0], Alice[1]);\n",
    "    PreparePhiPlus(Charlie[0], Charlie[1]);\n",
    "    // Step 1+2+3 : Alice sends her second qubit to Charlie, who then does the Bell-measurement\n",
    "    // and then appropriate single-qubit gates on his second qubit\n",
    "    TeleportOnce(Alice[0], Alice[1], Charlie[0], Charlie[1]);\n",
    "    // At this point we expect A0 C1 to be in the Bell state, so we convert it back to the standard basis and measure\n",
    "    Adjoint PreparePhiPlus(Alice[0], Charlie[1]);\n",
    "    Ignore(M(Alice[1]));\n",
    "    Ignore(M(Charlie[0]));\n",
    "    return [M(Alice[0]), M(Charlie[1])];\n",
    "}   \n",
    "\n",
    "operation RepeatDemo(n : Int) : Int[] {\n",
    "    mutable counts = new Int[4];\n",
    "    for i in 0..n-1 {\n",
    "        let result = EntanglementSwapDemo();\n",
    "        let value = (result[0] == One ? 1 | 0) + (result[1] == One ? 2 | 0);\n",
    "        set counts w/= value <- counts[value]+1;\n",
    "    }\n",
    "    return counts;\n",
    "}"
   ]
  },
  {
   "cell_type": "markdown",
   "metadata": {},
   "source": [
    "We should expect to see that the protocol successfully creates the Bell state $q_0q_3 = \\ket{\\Phi^+}$ 100% of the time - and it does!"
   ]
  },
  {
   "cell_type": "code",
   "execution_count": 14,
   "metadata": {},
   "outputs": [
    {
     "data": {
      "application/x-qsharp-data": "[1000,0,0,0]",
      "text/html": [
       "<ul><li>1000</li><li>0</li><li>0</li><li>0</li></ul>"
      ],
      "text/plain": [
       "1000, 0, 0, 0"
      ]
     },
     "execution_count": 14,
     "metadata": {},
     "output_type": "execute_result"
    }
   ],
   "source": [
    "%simulate RepeatDemo n=1000"
   ]
  },
  {
   "cell_type": "markdown",
   "metadata": {},
   "source": [
    "## Finishing the protocol\n",
    "\n",
    "That was very exciting, but we must not forget the original purpose of the protocol! We want to be able to form an entangled Bell pair between Alice and Bob. Before we continue, let's take a moment to recall the current state.\n",
    "\n",
    "- Alice has qubit $q_0$ - which is currently entangled with Charlie's $q_3$ in the $\\ket{\\Phi^+}$ state.\n",
    "- Charlie has qubits $q_1,q_2$ and $q_3$. $q_1q_2$ are no longer relevant to the protocol, and $q_3$ is entangled with Alice's $q_0$ as stated\n",
    "- Bob has qubits $q_4q_5$ in the $\\ket{\\Phi^+}$ state.\n",
    "\n",
    "Now it is Charlie's turn to play the role of Alice in this second half of the protocol. Everything is very similar to the first half:\n",
    "1. Charlie sends $q_3$ to Bob\n",
    "2. Bob makes a measurement of $q_3q_4$ in the Bell basis and records the measurement outcomes $M\\in\\{M_{\\Phi^+},M_{\\Phi^-} M_{\\Psi^+},M_{\\Psi^-}\\}$.\n",
    "3. Based on the observed measurement outcome $M$, Charlie performs single-qubit operations on $q_5$.\n",
    "The end result is that $q_0q_5$ is now a Bell pair $\\ket{\\Phi^+}$ : Alice and Bob now share an entangled pair of qubits!\n",
    "\n",
    "We will not do the full derivation here, but you should convince yourself that it works given how we analyzed Alice's and Charlie's part of the protocol."
   ]
  },
  {
   "cell_type": "markdown",
   "metadata": {},
   "source": [
    "## Quantum Repeater\n",
    "\n",
    "In the above scenario, Charlie acted as a \"quantum repeater\" by helping Alice become entangled with Bob, something that would not have been possible if Alice tried to send her qubit $q_1$ to Bob directly (due to decoherence over long distances). This idea can be extended to improve the physical range of entanglement even further! If we had a long line of \"Charlie\"s between Alice and Bob, the entanglement teleportation protocol can be performed between Alice and Charlie #1, Charlie #1 and Charlie #2, and so on... all the way to Charlie #N and Bob, to establish an entangled pair between Alice and Bob."
   ]
  },
  {
   "cell_type": "markdown",
   "metadata": {},
   "source": [
    "# Testing on Quantum Hardware\n",
    "\n"
   ]
  },
  {
   "cell_type": "markdown",
   "metadata": {},
   "source": [
    "With access to Microsoft Quantum Azure, we can implement the Entanglement Teleportation protocol and see how it performs on noisy devices! Firstly, let's write a function that will implement the protocol with $n$ people:"
   ]
  },
  {
   "cell_type": "code",
   "execution_count": 29,
   "metadata": {},
   "outputs": [
    {
     "data": {
      "application/x-qsharp-data": "[\"EntanglementSwap\"]",
      "text/html": [
       "<ul><li>EntanglementSwap</li></ul>"
      ],
      "text/plain": [
       "EntanglementSwap"
      ]
     },
     "execution_count": 29,
     "metadata": {},
     "output_type": "execute_result"
    }
   ],
   "source": [
    "operation EntanglementSwap(n : Int) : Result[] {\n",
    "    use q = Qubit[2*n];\n",
    "    for i in 0..n-1 {\n",
    "        PreparePhiPlus(q[2*i], q[2*i+1]);\n",
    "    }\n",
    "    for i in 0..n-2 {\n",
    "        TeleportOnce(q[0], q[1+2*i], q[2+2*i], q[3+2*i]);\n",
    "        Ignore(M(q[1+2*i]));\n",
    "        Ignore(M(q[2+2*i]));\n",
    "    }\n",
    "    Adjoint PreparePhiPlus(q[0], q[2*n-1]);\n",
    "\n",
    "    return [M(q[0]), M(q[2*n-1])];\n",
    "} "
   ]
  },
  {
   "cell_type": "markdown",
   "metadata": {},
   "source": [
    "We can see that setting $n=3$ gives us the entanglement teleportation protocol with Alice, Bob and Charlie!\n",
    "\n",
    "Now we connect the the Azure workspace and check what devices we have access to:"
   ]
  },
  {
   "cell_type": "code",
   "execution_count": 18,
   "metadata": {},
   "outputs": [
    {
     "name": "stdout",
     "output_type": "stream",
     "text": [
      "Connected to Azure Quantum workspace qchack-2022-b in location eastus.\n"
     ]
    },
    {
     "data": {
      "application/x-qsharp-data": "[{\"id\":\"ionq.qpu\",\"current_availability\":{},\"average_queue_time\":898},{\"id\":\"ionq.simulator\",\"current_availability\":{},\"average_queue_time\":2},{\"id\":\"quantinuum.hqs-lt-s1\",\"current_availability\":{},\"average_queue_time\":0},{\"id\":\"quantinuum.hqs-lt-s1-apival\",\"current_availability\":{},\"average_queue_time\":0},{\"id\":\"quantinuum.hqs-lt-s2\",\"current_availability\":{},\"average_queue_time\":0},{\"id\":\"quantinuum.hqs-lt-s2-apival\",\"current_availability\":{},\"average_queue_time\":0},{\"id\":\"quantinuum.hqs-lt-s1-sim\",\"current_availability\":{},\"average_queue_time\":0},{\"id\":\"quantinuum.hqs-lt-s2-sim\",\"current_availability\":{},\"average_queue_time\":7},{\"id\":\"quantinuum.hqs-lt\",\"current_availability\":{},\"average_queue_time\":0}]",
      "text/html": [
       "<table><thead><tr><th style=\"text-align: start;\">Target ID</th><th style=\"text-align: start;\">Current Availability</th><th style=\"text-align: start;\">Average Queue Time (Seconds)</th></tr></thead><tbody><tr><td style=\"text-align: start;\">ionq.qpu</td><td style=\"text-align: start;\">Available</td><td style=\"text-align: start;\">898</td></tr><tr><td style=\"text-align: start;\">ionq.simulator</td><td style=\"text-align: start;\">Available</td><td style=\"text-align: start;\">2</td></tr><tr><td style=\"text-align: start;\">quantinuum.hqs-lt-s1</td><td style=\"text-align: start;\">Unavailable</td><td style=\"text-align: start;\">0</td></tr><tr><td style=\"text-align: start;\">quantinuum.hqs-lt-s1-apival</td><td style=\"text-align: start;\">Available</td><td style=\"text-align: start;\">0</td></tr><tr><td style=\"text-align: start;\">quantinuum.hqs-lt-s2</td><td style=\"text-align: start;\">Unavailable</td><td style=\"text-align: start;\">0</td></tr><tr><td style=\"text-align: start;\">quantinuum.hqs-lt-s2-apival</td><td style=\"text-align: start;\">Available</td><td style=\"text-align: start;\">0</td></tr><tr><td style=\"text-align: start;\">quantinuum.hqs-lt-s1-sim</td><td style=\"text-align: start;\">Available</td><td style=\"text-align: start;\">0</td></tr><tr><td style=\"text-align: start;\">quantinuum.hqs-lt-s2-sim</td><td style=\"text-align: start;\">Available</td><td style=\"text-align: start;\">7</td></tr><tr><td style=\"text-align: start;\">quantinuum.hqs-lt</td><td style=\"text-align: start;\">Unavailable</td><td style=\"text-align: start;\">0</td></tr></tbody></table>"
      ],
      "text/plain": [
       "Target ID                   Current Availability Average Queue Time (Seconds)\r\n",
       "--------------------------- ----------- ---\r\n",
       "ionq.qpu                    Available   898\r\n",
       "ionq.simulator              Available   2\r\n",
       "quantinuum.hqs-lt-s1        Unavailable 0\r\n",
       "quantinuum.hqs-lt-s1-apival Available   0\r\n",
       "quantinuum.hqs-lt-s2        Unavailable 0\r\n",
       "quantinuum.hqs-lt-s2-apival Available   0\r\n",
       "quantinuum.hqs-lt-s1-sim    Available   0\r\n",
       "quantinuum.hqs-lt-s2-sim    Available   7\r\n",
       "quantinuum.hqs-lt           Unavailable 0\r\n"
      ]
     },
     "execution_count": 18,
     "metadata": {},
     "output_type": "execute_result"
    }
   ],
   "source": [
    "%azure.connect \"/subscriptions/b0c3bbe3-7123-4ba4-9aa2-57d9845f4a1d/resourceGroups/AzureQuantum/providers/Microsoft.Quantum/Workspaces/qchack-2022-b\" location=\"East US\""
   ]
  },
  {
   "cell_type": "markdown",
   "metadata": {},
   "source": [
    "Because the protocol requires *classically*-controlled gates, we have to choose a backend that support those operations. Currently, the Ionq simulator and QPU do not support this type of algorithm. Therefore we will use the Quantinuum simulators and hardware. The Quantinuum simulators also simulate the noise that the QPU's gate operations induce, and so we will be able to learn how the entanglement teleportation algorithm performs on imperfect computers!"
   ]
  },
  {
   "cell_type": "code",
   "execution_count": 19,
   "metadata": {},
   "outputs": [
    {
     "name": "stdout",
     "output_type": "stream",
     "text": [
      "Loading package Microsoft.Quantum.Providers.Honeywell and dependencies...\n",
      "Active target is now quantinuum.hqs-lt-s2-sim\n"
     ]
    },
    {
     "data": {
      "application/x-qsharp-data": "{\"id\":\"quantinuum.hqs-lt-s2-sim\",\"current_availability\":{},\"average_queue_time\":7}",
      "text/html": [
       "<table><thead><tr><th style=\"text-align: start;\">Target ID</th><th style=\"text-align: start;\">Current Availability</th><th style=\"text-align: start;\">Average Queue Time (Seconds)</th></tr></thead><tbody><tr><td style=\"text-align: start;\">quantinuum.hqs-lt-s2-sim</td><td style=\"text-align: start;\">Available</td><td style=\"text-align: start;\">7</td></tr></tbody></table>"
      ],
      "text/plain": [
       "Target ID                Current Availability Average Queue Time (Seconds)\r\n",
       "------------------------ --------- -\r\n",
       "quantinuum.hqs-lt-s2-sim Available 7\r\n"
      ]
     },
     "execution_count": 19,
     "metadata": {},
     "output_type": "execute_result"
    }
   ],
   "source": [
    "%azure.target quantinuum.hqs-lt-s2-sim"
   ]
  },
  {
   "cell_type": "markdown",
   "metadata": {},
   "source": [
    "Before we run it on the backend, let's check once more that our protocol works by simulating it in-silico:"
   ]
  },
  {
   "cell_type": "code",
   "execution_count": 30,
   "metadata": {},
   "outputs": [
    {
     "name": "stdout",
     "output_type": "stream",
     "text": [
      "c:\\snippet_.qs(2,22): warning QS3308: Deprecated syntax. Use [] to construct an empty array, or [x, size = n] to construct an array of x repeated n times.\n"
     ]
    },
    {
     "data": {
      "application/x-qsharp-data": "[\"RepeatEntanglementSwap\"]",
      "text/html": [
       "<ul><li>RepeatEntanglementSwap</li></ul>"
      ],
      "text/plain": [
       "RepeatEntanglementSwap"
      ]
     },
     "execution_count": 30,
     "metadata": {},
     "output_type": "execute_result"
    }
   ],
   "source": [
    "operation RepeatEntanglementSwap(n : Int, rep : Int) : Int[] {\n",
    "    mutable counts = new Int[4];\n",
    "    for i in 0..rep-1 {\n",
    "        let result = EntanglementSwap(n);\n",
    "        let value = (result[0] == One ? 1 | 0) + (result[1] == One ? 2 | 0);\n",
    "        set counts w/= value <- counts[value]+1;\n",
    "    }\n",
    "    return counts;\n",
    "}"
   ]
  },
  {
   "cell_type": "code",
   "execution_count": 34,
   "metadata": {},
   "outputs": [
    {
     "data": {
      "application/x-qsharp-data": "[1000,0,0,0]",
      "text/html": [
       "<ul><li>1000</li><li>0</li><li>0</li><li>0</li></ul>"
      ],
      "text/plain": [
       "1000, 0, 0, 0"
      ]
     },
     "execution_count": 34,
     "metadata": {},
     "output_type": "execute_result"
    }
   ],
   "source": [
    "%simulate RepeatEntanglementSwap n=3 rep = 1000"
   ]
  },
  {
   "cell_type": "markdown",
   "metadata": {},
   "source": [
    "Great! Let's submit it to the simulator and wait for the results"
   ]
  },
  {
   "cell_type": "code",
   "execution_count": 35,
   "metadata": {},
   "outputs": [
    {
     "name": "stdout",
     "output_type": "stream",
     "text": [
      "Submitting EntanglementSwap to target quantinuum.hqs-lt-s2-sim...\n",
      "Job successfully submitted for 500 shots.\n",
      "   Job name: EntanglementSwap\n",
      "   Job ID: 9d1505b7-9548-4ce8-84ff-9b55e63e9330\n"
     ]
    },
    {
     "data": {
      "application/x-qsharp-data": "{\"id\":\"9d1505b7-9548-4ce8-84ff-9b55e63e9330\",\"name\":\"EntanglementSwap\",\"status\":\"Waiting\",\"uri\":\"https://portal.azure.com/#@microsoft.onmicrosoft.com/resource/subscriptions/b0c3bbe3-7123-4ba4-9aa2-57d9845f4a1d/resourceGroups/AzureQuantum/providers/Microsoft.Quantum/Workspaces/qchack-2022-b/job_management?microsoft_azure_quantum_jobid=9d1505b7-9548-4ce8-84ff-9b55e63e9330\",\"provider\":\"quantinuum\",\"target\":\"quantinuum.hqs-lt-s2-sim\",\"creation_time\":\"2022-04-10T02:42:51.1408164+00:00\",\"begin_execution_time\":null,\"end_execution_time\":null,\"cost_estimate\":\"\"}",
      "text/html": [
       "<table><thead><tr><th style=\"text-align: start;\">Job Name</th><th style=\"text-align: start;\">Job ID</th><th style=\"text-align: start;\">Job Status</th><th style=\"text-align: start;\">Target</th><th style=\"text-align: start;\">Creation Time</th><th style=\"text-align: start;\">Begin Execution Time</th><th style=\"text-align: start;\">End Execution Time</th><th style=\"text-align: start;\">Cost Estimate</th></tr></thead><tbody><tr><td style=\"text-align: start;\">EntanglementSwap</td><td style=\"text-align: start;\"><a href=\"https://portal.azure.com/#@microsoft.onmicrosoft.com/resource/subscriptions/b0c3bbe3-7123-4ba4-9aa2-57d9845f4a1d/resourceGroups/AzureQuantum/providers/Microsoft.Quantum/Workspaces/qchack-2022-b/job_management?microsoft_azure_quantum_jobid=9d1505b7-9548-4ce8-84ff-9b55e63e9330\" target=\"_blank\">9d1505b7-9548-4ce8-84ff-9b55e63e9330</a></td><td style=\"text-align: start;\">Waiting</td><td style=\"text-align: start;\">quantinuum.hqs-lt-s2-sim</td><td style=\"text-align: start;\">10/4/2022 2:42:51 AM +00:00</td><td style=\"text-align: start;\"></td><td style=\"text-align: start;\"></td><td style=\"text-align: start;\"></td></tr></tbody></table>"
      ],
      "text/plain": [
       "Job Name         Job ID                                                                                                                                                                                                                                                                                                                                                 Job Status Target                   Creation Time               Begin Execution Time End Execution Time Cost Estimate\r\n",
       "---------------- ------------------------------------------------------------------------------------------------------------------------------------------------------------------------------------------------------------------------------------------------------------------------------------------------------------------------------------------------------ ------- ------------------------ ---------------------------\r\n",
       "EntanglementSwap <a href=\"https://portal.azure.com/#@microsoft.onmicrosoft.com/resource/subscriptions/b0c3bbe3-7123-4ba4-9aa2-57d9845f4a1d/resourceGroups/AzureQuantum/providers/Microsoft.Quantum/Workspaces/qchack-2022-b/job_management?microsoft_azure_quantum_jobid=9d1505b7-9548-4ce8-84ff-9b55e63e9330\" target=\"_blank\">9d1505b7-9548-4ce8-84ff-9b55e63e9330</a> Waiting quantinuum.hqs-lt-s2-sim 10/4/2022 2:42:51 AM +00:00\r\n"
      ]
     },
     "execution_count": 35,
     "metadata": {},
     "output_type": "execute_result"
    }
   ],
   "source": [
    "%azure.submit EntanglementSwap n=3"
   ]
  },
  {
   "cell_type": "code",
   "execution_count": 36,
   "metadata": {},
   "outputs": [
    {
     "data": {
      "application/x-qsharp-data": "{\"id\":\"9d1505b7-9548-4ce8-84ff-9b55e63e9330\",\"name\":\"EntanglementSwap\",\"status\":\"Succeeded\",\"uri\":\"https://portal.azure.com/#@microsoft.onmicrosoft.com/resource/subscriptions/b0c3bbe3-7123-4ba4-9aa2-57d9845f4a1d/resourceGroups/AzureQuantum/providers/Microsoft.Quantum/Workspaces/qchack-2022-b/job_management?microsoft_azure_quantum_jobid=9d1505b7-9548-4ce8-84ff-9b55e63e9330\",\"provider\":\"quantinuum\",\"target\":\"quantinuum.hqs-lt-s2-sim\",\"creation_time\":\"2022-04-10T02:42:51.1408164+00:00\",\"begin_execution_time\":\"2022-04-10T02:44:02.04691+00:00\",\"end_execution_time\":\"2022-04-10T02:44:02.047895+00:00\",\"cost_estimate\":\"\"}",
      "text/html": [
       "<table><thead><tr><th style=\"text-align: start;\">Job Name</th><th style=\"text-align: start;\">Job ID</th><th style=\"text-align: start;\">Job Status</th><th style=\"text-align: start;\">Target</th><th style=\"text-align: start;\">Creation Time</th><th style=\"text-align: start;\">Begin Execution Time</th><th style=\"text-align: start;\">End Execution Time</th><th style=\"text-align: start;\">Cost Estimate</th></tr></thead><tbody><tr><td style=\"text-align: start;\">EntanglementSwap</td><td style=\"text-align: start;\"><a href=\"https://portal.azure.com/#@microsoft.onmicrosoft.com/resource/subscriptions/b0c3bbe3-7123-4ba4-9aa2-57d9845f4a1d/resourceGroups/AzureQuantum/providers/Microsoft.Quantum/Workspaces/qchack-2022-b/job_management?microsoft_azure_quantum_jobid=9d1505b7-9548-4ce8-84ff-9b55e63e9330\" target=\"_blank\">9d1505b7-9548-4ce8-84ff-9b55e63e9330</a></td><td style=\"text-align: start;\">Succeeded</td><td style=\"text-align: start;\">quantinuum.hqs-lt-s2-sim</td><td style=\"text-align: start;\">10/4/2022 2:42:51 AM +00:00</td><td style=\"text-align: start;\">10/4/2022 2:44:02 AM +00:00</td><td style=\"text-align: start;\">10/4/2022 2:44:02 AM +00:00</td><td style=\"text-align: start;\"></td></tr></tbody></table>"
      ],
      "text/plain": [
       "Job Name         Job ID                                                                                                                                                                                                                                                                                                                                                 Job Status Target                   Creation Time               Begin Execution Time        End Execution Time          Cost Estimate\r\n",
       "---------------- ------------------------------------------------------------------------------------------------------------------------------------------------------------------------------------------------------------------------------------------------------------------------------------------------------------------------------------------------------ --------- ------------------------ --------------------------- --------------------------- ---------------------------\r\n",
       "EntanglementSwap <a href=\"https://portal.azure.com/#@microsoft.onmicrosoft.com/resource/subscriptions/b0c3bbe3-7123-4ba4-9aa2-57d9845f4a1d/resourceGroups/AzureQuantum/providers/Microsoft.Quantum/Workspaces/qchack-2022-b/job_management?microsoft_azure_quantum_jobid=9d1505b7-9548-4ce8-84ff-9b55e63e9330\" target=\"_blank\">9d1505b7-9548-4ce8-84ff-9b55e63e9330</a> Succeeded quantinuum.hqs-lt-s2-sim 10/4/2022 2:42:51 AM +00:00 10/4/2022 2:44:02 AM +00:00 10/4/2022 2:44:02 AM +00:00\r\n"
      ]
     },
     "execution_count": 36,
     "metadata": {},
     "output_type": "execute_result"
    }
   ],
   "source": [
    "%azure.status"
   ]
  },
  {
   "cell_type": "markdown",
   "metadata": {},
   "source": [
    "Once the above cell reports that the job has succeeded, we can print out the histogram of results below:"
   ]
  },
  {
   "cell_type": "code",
   "execution_count": 37,
   "metadata": {},
   "outputs": [
    {
     "data": {
      "application/x-qsharp-data": "{\"[0,0]\":0.9400000000000007,\"[0,1]\":0.02800000000000001,\"[1,1]\":0.008,\"[1,0]\":0.024000000000000007}",
      "text/html": [
       "\r\n",
       "                    <table style=\"table-layout: fixed; width: 100%\">\r\n",
       "                        <thead>\r\n",
       "                            <tr>\r\n",
       "                                <th style=\"text-align: left; width: 25ch\">Result</th>\r\n",
       "                                <th style=\"text-align: left; width: 25ch\">Frequency</th>\r\n",
       "                                <th style=\"text-align: left; width: calc(100% - 25ch - 25ch)\">Histogram</th>\r\n",
       "                            </tr>\r\n",
       "                        </thead>\r\n",
       "                        <tbody>\r\n",
       "                            \r\n",
       "                            <tr>\r\n",
       "                                <td style=\"text-align: left; width: 25ch\">[0,0]</td>\r\n",
       "                                <td style=\"text-align: left; width: 25ch\">0.9400000000000007</td>\r\n",
       "                                <td style=\"text-align: left; width: calc(100% - 25ch - 25ch)\">\r\n",
       "                                    <progress\r\n",
       "                                        max=\"100\"\r\n",
       "                                        value=\"94.00000000000007\"\r\n",
       "                                        style=\"width: 100%;\"\r\n",
       "                                    >\r\n",
       "                                </td>\r\n",
       "                            </tr>\r\n",
       "                        \n",
       "\r\n",
       "                            <tr>\r\n",
       "                                <td style=\"text-align: left; width: 25ch\">[0,1]</td>\r\n",
       "                                <td style=\"text-align: left; width: 25ch\">0.02800000000000001</td>\r\n",
       "                                <td style=\"text-align: left; width: calc(100% - 25ch - 25ch)\">\r\n",
       "                                    <progress\r\n",
       "                                        max=\"100\"\r\n",
       "                                        value=\"2.800000000000001\"\r\n",
       "                                        style=\"width: 100%;\"\r\n",
       "                                    >\r\n",
       "                                </td>\r\n",
       "                            </tr>\r\n",
       "                        \n",
       "\r\n",
       "                            <tr>\r\n",
       "                                <td style=\"text-align: left; width: 25ch\">[1,1]</td>\r\n",
       "                                <td style=\"text-align: left; width: 25ch\">0.008</td>\r\n",
       "                                <td style=\"text-align: left; width: calc(100% - 25ch - 25ch)\">\r\n",
       "                                    <progress\r\n",
       "                                        max=\"100\"\r\n",
       "                                        value=\"0.8\"\r\n",
       "                                        style=\"width: 100%;\"\r\n",
       "                                    >\r\n",
       "                                </td>\r\n",
       "                            </tr>\r\n",
       "                        \n",
       "\r\n",
       "                            <tr>\r\n",
       "                                <td style=\"text-align: left; width: 25ch\">[1,0]</td>\r\n",
       "                                <td style=\"text-align: left; width: 25ch\">0.024000000000000007</td>\r\n",
       "                                <td style=\"text-align: left; width: calc(100% - 25ch - 25ch)\">\r\n",
       "                                    <progress\r\n",
       "                                        max=\"100\"\r\n",
       "                                        value=\"2.400000000000001\"\r\n",
       "                                        style=\"width: 100%;\"\r\n",
       "                                    >\r\n",
       "                                </td>\r\n",
       "                            </tr>\r\n",
       "                        \r\n",
       "                        </tbody>\r\n",
       "                    </table>\r\n",
       "                "
      ],
      "text/plain": [
       "Result Frequency\r\n",
       "----- --------------------\r\n",
       "[0,0] 0.9400000000000007\r\n",
       "[0,1] 0.02800000000000001\r\n",
       "[1,1] 0.008\r\n",
       "[1,0] 0.024000000000000007\r\n"
      ]
     },
     "execution_count": 37,
     "metadata": {},
     "output_type": "execute_result"
    }
   ],
   "source": [
    "%azure.output"
   ]
  },
  {
   "cell_type": "markdown",
   "metadata": {},
   "source": [
    "Pretty good! Seems like the fidelity of the teleportation is around $93\\sim95\\%$\n",
    "\n",
    "Now lets try a longer protocol, this time between 5 parties:"
   ]
  },
  {
   "cell_type": "code",
   "execution_count": 38,
   "metadata": {},
   "outputs": [
    {
     "name": "stdout",
     "output_type": "stream",
     "text": [
      "Submitting EntanglementSwap to target quantinuum.hqs-lt-s2-sim...\n",
      "Job successfully submitted for 500 shots.\n",
      "   Job name: EntanglementSwap\n",
      "   Job ID: f44fe681-a577-47e2-9da6-837b95a8629d\n"
     ]
    },
    {
     "data": {
      "application/x-qsharp-data": "{\"id\":\"f44fe681-a577-47e2-9da6-837b95a8629d\",\"name\":\"EntanglementSwap\",\"status\":\"Waiting\",\"uri\":\"https://portal.azure.com/#@microsoft.onmicrosoft.com/resource/subscriptions/b0c3bbe3-7123-4ba4-9aa2-57d9845f4a1d/resourceGroups/AzureQuantum/providers/Microsoft.Quantum/Workspaces/qchack-2022-b/job_management?microsoft_azure_quantum_jobid=f44fe681-a577-47e2-9da6-837b95a8629d\",\"provider\":\"quantinuum\",\"target\":\"quantinuum.hqs-lt-s2-sim\",\"creation_time\":\"2022-04-10T02:45:14.2337822+00:00\",\"begin_execution_time\":null,\"end_execution_time\":null,\"cost_estimate\":\"\"}",
      "text/html": [
       "<table><thead><tr><th style=\"text-align: start;\">Job Name</th><th style=\"text-align: start;\">Job ID</th><th style=\"text-align: start;\">Job Status</th><th style=\"text-align: start;\">Target</th><th style=\"text-align: start;\">Creation Time</th><th style=\"text-align: start;\">Begin Execution Time</th><th style=\"text-align: start;\">End Execution Time</th><th style=\"text-align: start;\">Cost Estimate</th></tr></thead><tbody><tr><td style=\"text-align: start;\">EntanglementSwap</td><td style=\"text-align: start;\"><a href=\"https://portal.azure.com/#@microsoft.onmicrosoft.com/resource/subscriptions/b0c3bbe3-7123-4ba4-9aa2-57d9845f4a1d/resourceGroups/AzureQuantum/providers/Microsoft.Quantum/Workspaces/qchack-2022-b/job_management?microsoft_azure_quantum_jobid=f44fe681-a577-47e2-9da6-837b95a8629d\" target=\"_blank\">f44fe681-a577-47e2-9da6-837b95a8629d</a></td><td style=\"text-align: start;\">Waiting</td><td style=\"text-align: start;\">quantinuum.hqs-lt-s2-sim</td><td style=\"text-align: start;\">10/4/2022 2:45:14 AM +00:00</td><td style=\"text-align: start;\"></td><td style=\"text-align: start;\"></td><td style=\"text-align: start;\"></td></tr></tbody></table>"
      ],
      "text/plain": [
       "Job Name         Job ID                                                                                                                                                                                                                                                                                                                                                 Job Status Target                   Creation Time               Begin Execution Time End Execution Time Cost Estimate\r\n",
       "---------------- ------------------------------------------------------------------------------------------------------------------------------------------------------------------------------------------------------------------------------------------------------------------------------------------------------------------------------------------------------ ------- ------------------------ ---------------------------\r\n",
       "EntanglementSwap <a href=\"https://portal.azure.com/#@microsoft.onmicrosoft.com/resource/subscriptions/b0c3bbe3-7123-4ba4-9aa2-57d9845f4a1d/resourceGroups/AzureQuantum/providers/Microsoft.Quantum/Workspaces/qchack-2022-b/job_management?microsoft_azure_quantum_jobid=f44fe681-a577-47e2-9da6-837b95a8629d\" target=\"_blank\">f44fe681-a577-47e2-9da6-837b95a8629d</a> Waiting quantinuum.hqs-lt-s2-sim 10/4/2022 2:45:14 AM +00:00\r\n"
      ]
     },
     "execution_count": 38,
     "metadata": {},
     "output_type": "execute_result"
    }
   ],
   "source": [
    "%azure.submit EntanglementSwap n=5"
   ]
  },
  {
   "cell_type": "code",
   "execution_count": 40,
   "metadata": {},
   "outputs": [
    {
     "data": {
      "application/x-qsharp-data": "{\"id\":\"f44fe681-a577-47e2-9da6-837b95a8629d\",\"name\":\"EntanglementSwap\",\"status\":\"Succeeded\",\"uri\":\"https://portal.azure.com/#@microsoft.onmicrosoft.com/resource/subscriptions/b0c3bbe3-7123-4ba4-9aa2-57d9845f4a1d/resourceGroups/AzureQuantum/providers/Microsoft.Quantum/Workspaces/qchack-2022-b/job_management?microsoft_azure_quantum_jobid=f44fe681-a577-47e2-9da6-837b95a8629d\",\"provider\":\"quantinuum\",\"target\":\"quantinuum.hqs-lt-s2-sim\",\"creation_time\":\"2022-04-10T02:45:14.2337822+00:00\",\"begin_execution_time\":\"2022-04-10T02:46:53.824968+00:00\",\"end_execution_time\":\"2022-04-10T02:46:57.537054+00:00\",\"cost_estimate\":\"\"}",
      "text/html": [
       "<table><thead><tr><th style=\"text-align: start;\">Job Name</th><th style=\"text-align: start;\">Job ID</th><th style=\"text-align: start;\">Job Status</th><th style=\"text-align: start;\">Target</th><th style=\"text-align: start;\">Creation Time</th><th style=\"text-align: start;\">Begin Execution Time</th><th style=\"text-align: start;\">End Execution Time</th><th style=\"text-align: start;\">Cost Estimate</th></tr></thead><tbody><tr><td style=\"text-align: start;\">EntanglementSwap</td><td style=\"text-align: start;\"><a href=\"https://portal.azure.com/#@microsoft.onmicrosoft.com/resource/subscriptions/b0c3bbe3-7123-4ba4-9aa2-57d9845f4a1d/resourceGroups/AzureQuantum/providers/Microsoft.Quantum/Workspaces/qchack-2022-b/job_management?microsoft_azure_quantum_jobid=f44fe681-a577-47e2-9da6-837b95a8629d\" target=\"_blank\">f44fe681-a577-47e2-9da6-837b95a8629d</a></td><td style=\"text-align: start;\">Succeeded</td><td style=\"text-align: start;\">quantinuum.hqs-lt-s2-sim</td><td style=\"text-align: start;\">10/4/2022 2:45:14 AM +00:00</td><td style=\"text-align: start;\">10/4/2022 2:46:53 AM +00:00</td><td style=\"text-align: start;\">10/4/2022 2:46:57 AM +00:00</td><td style=\"text-align: start;\"></td></tr></tbody></table>"
      ],
      "text/plain": [
       "Job Name         Job ID                                                                                                                                                                                                                                                                                                                                                 Job Status Target                   Creation Time               Begin Execution Time        End Execution Time          Cost Estimate\r\n",
       "---------------- ------------------------------------------------------------------------------------------------------------------------------------------------------------------------------------------------------------------------------------------------------------------------------------------------------------------------------------------------------ --------- ------------------------ --------------------------- --------------------------- ---------------------------\r\n",
       "EntanglementSwap <a href=\"https://portal.azure.com/#@microsoft.onmicrosoft.com/resource/subscriptions/b0c3bbe3-7123-4ba4-9aa2-57d9845f4a1d/resourceGroups/AzureQuantum/providers/Microsoft.Quantum/Workspaces/qchack-2022-b/job_management?microsoft_azure_quantum_jobid=f44fe681-a577-47e2-9da6-837b95a8629d\" target=\"_blank\">f44fe681-a577-47e2-9da6-837b95a8629d</a> Succeeded quantinuum.hqs-lt-s2-sim 10/4/2022 2:45:14 AM +00:00 10/4/2022 2:46:53 AM +00:00 10/4/2022 2:46:57 AM +00:00\r\n"
      ]
     },
     "execution_count": 40,
     "metadata": {},
     "output_type": "execute_result"
    }
   ],
   "source": [
    "%azure.status"
   ]
  },
  {
   "cell_type": "code",
   "execution_count": 41,
   "metadata": {},
   "outputs": [
    {
     "data": {
      "application/x-qsharp-data": "{\"[0,0]\":0.9380000000000007,\"[1,1]\":0.006,\"[1,0]\":0.02600000000000001,\"[0,1]\":0.030000000000000013}",
      "text/html": [
       "\r\n",
       "                    <table style=\"table-layout: fixed; width: 100%\">\r\n",
       "                        <thead>\r\n",
       "                            <tr>\r\n",
       "                                <th style=\"text-align: left; width: 25ch\">Result</th>\r\n",
       "                                <th style=\"text-align: left; width: 25ch\">Frequency</th>\r\n",
       "                                <th style=\"text-align: left; width: calc(100% - 25ch - 25ch)\">Histogram</th>\r\n",
       "                            </tr>\r\n",
       "                        </thead>\r\n",
       "                        <tbody>\r\n",
       "                            \r\n",
       "                            <tr>\r\n",
       "                                <td style=\"text-align: left; width: 25ch\">[0,0]</td>\r\n",
       "                                <td style=\"text-align: left; width: 25ch\">0.9380000000000007</td>\r\n",
       "                                <td style=\"text-align: left; width: calc(100% - 25ch - 25ch)\">\r\n",
       "                                    <progress\r\n",
       "                                        max=\"100\"\r\n",
       "                                        value=\"93.80000000000007\"\r\n",
       "                                        style=\"width: 100%;\"\r\n",
       "                                    >\r\n",
       "                                </td>\r\n",
       "                            </tr>\r\n",
       "                        \n",
       "\r\n",
       "                            <tr>\r\n",
       "                                <td style=\"text-align: left; width: 25ch\">[1,1]</td>\r\n",
       "                                <td style=\"text-align: left; width: 25ch\">0.006</td>\r\n",
       "                                <td style=\"text-align: left; width: calc(100% - 25ch - 25ch)\">\r\n",
       "                                    <progress\r\n",
       "                                        max=\"100\"\r\n",
       "                                        value=\"0.6\"\r\n",
       "                                        style=\"width: 100%;\"\r\n",
       "                                    >\r\n",
       "                                </td>\r\n",
       "                            </tr>\r\n",
       "                        \n",
       "\r\n",
       "                            <tr>\r\n",
       "                                <td style=\"text-align: left; width: 25ch\">[1,0]</td>\r\n",
       "                                <td style=\"text-align: left; width: 25ch\">0.02600000000000001</td>\r\n",
       "                                <td style=\"text-align: left; width: calc(100% - 25ch - 25ch)\">\r\n",
       "                                    <progress\r\n",
       "                                        max=\"100\"\r\n",
       "                                        value=\"2.600000000000001\"\r\n",
       "                                        style=\"width: 100%;\"\r\n",
       "                                    >\r\n",
       "                                </td>\r\n",
       "                            </tr>\r\n",
       "                        \n",
       "\r\n",
       "                            <tr>\r\n",
       "                                <td style=\"text-align: left; width: 25ch\">[0,1]</td>\r\n",
       "                                <td style=\"text-align: left; width: 25ch\">0.030000000000000013</td>\r\n",
       "                                <td style=\"text-align: left; width: calc(100% - 25ch - 25ch)\">\r\n",
       "                                    <progress\r\n",
       "                                        max=\"100\"\r\n",
       "                                        value=\"3.0000000000000013\"\r\n",
       "                                        style=\"width: 100%;\"\r\n",
       "                                    >\r\n",
       "                                </td>\r\n",
       "                            </tr>\r\n",
       "                        \r\n",
       "                        </tbody>\r\n",
       "                    </table>\r\n",
       "                "
      ],
      "text/plain": [
       "Result Frequency\r\n",
       "----- --------------------\r\n",
       "[0,0] 0.9380000000000007\r\n",
       "[1,1] 0.006\r\n",
       "[1,0] 0.02600000000000001\r\n",
       "[0,1] 0.030000000000000013\r\n"
      ]
     },
     "execution_count": 41,
     "metadata": {},
     "output_type": "execute_result"
    }
   ],
   "source": [
    "%azure.output"
   ]
  },
  {
   "cell_type": "markdown",
   "metadata": {},
   "source": [
    "We see that the fidelity of the desired state decreased sligtly, but is still pretty high! \n",
    "\n",
    "Let's increase the number of parties by 1 again and see how well the protocol performs this time:"
   ]
  },
  {
   "cell_type": "code",
   "execution_count": 45,
   "metadata": {},
   "outputs": [
    {
     "name": "stdout",
     "output_type": "stream",
     "text": [
      "Submitting EntanglementSwap to target quantinuum.hqs-lt-s2-sim...\n",
      "Job successfully submitted for 500 shots.\n",
      "   Job name: EntanglementSwap\n",
      "   Job ID: fb8e1d58-5225-4d79-bcd0-ce2baaaada9c\n"
     ]
    },
    {
     "data": {
      "application/x-qsharp-data": "{\"id\":\"fb8e1d58-5225-4d79-bcd0-ce2baaaada9c\",\"name\":\"EntanglementSwap\",\"status\":\"Waiting\",\"uri\":\"https://portal.azure.com/#@microsoft.onmicrosoft.com/resource/subscriptions/b0c3bbe3-7123-4ba4-9aa2-57d9845f4a1d/resourceGroups/AzureQuantum/providers/Microsoft.Quantum/Workspaces/qchack-2022-b/job_management?microsoft_azure_quantum_jobid=fb8e1d58-5225-4d79-bcd0-ce2baaaada9c\",\"provider\":\"quantinuum\",\"target\":\"quantinuum.hqs-lt-s2-sim\",\"creation_time\":\"2022-04-10T02:56:21.5295547+00:00\",\"begin_execution_time\":null,\"end_execution_time\":null,\"cost_estimate\":\"\"}",
      "text/html": [
       "<table><thead><tr><th style=\"text-align: start;\">Job Name</th><th style=\"text-align: start;\">Job ID</th><th style=\"text-align: start;\">Job Status</th><th style=\"text-align: start;\">Target</th><th style=\"text-align: start;\">Creation Time</th><th style=\"text-align: start;\">Begin Execution Time</th><th style=\"text-align: start;\">End Execution Time</th><th style=\"text-align: start;\">Cost Estimate</th></tr></thead><tbody><tr><td style=\"text-align: start;\">EntanglementSwap</td><td style=\"text-align: start;\"><a href=\"https://portal.azure.com/#@microsoft.onmicrosoft.com/resource/subscriptions/b0c3bbe3-7123-4ba4-9aa2-57d9845f4a1d/resourceGroups/AzureQuantum/providers/Microsoft.Quantum/Workspaces/qchack-2022-b/job_management?microsoft_azure_quantum_jobid=fb8e1d58-5225-4d79-bcd0-ce2baaaada9c\" target=\"_blank\">fb8e1d58-5225-4d79-bcd0-ce2baaaada9c</a></td><td style=\"text-align: start;\">Waiting</td><td style=\"text-align: start;\">quantinuum.hqs-lt-s2-sim</td><td style=\"text-align: start;\">10/4/2022 2:56:21 AM +00:00</td><td style=\"text-align: start;\"></td><td style=\"text-align: start;\"></td><td style=\"text-align: start;\"></td></tr></tbody></table>"
      ],
      "text/plain": [
       "Job Name         Job ID                                                                                                                                                                                                                                                                                                                                                 Job Status Target                   Creation Time               Begin Execution Time End Execution Time Cost Estimate\r\n",
       "---------------- ------------------------------------------------------------------------------------------------------------------------------------------------------------------------------------------------------------------------------------------------------------------------------------------------------------------------------------------------------ ------- ------------------------ ---------------------------\r\n",
       "EntanglementSwap <a href=\"https://portal.azure.com/#@microsoft.onmicrosoft.com/resource/subscriptions/b0c3bbe3-7123-4ba4-9aa2-57d9845f4a1d/resourceGroups/AzureQuantum/providers/Microsoft.Quantum/Workspaces/qchack-2022-b/job_management?microsoft_azure_quantum_jobid=fb8e1d58-5225-4d79-bcd0-ce2baaaada9c\" target=\"_blank\">fb8e1d58-5225-4d79-bcd0-ce2baaaada9c</a> Waiting quantinuum.hqs-lt-s2-sim 10/4/2022 2:56:21 AM +00:00\r\n"
      ]
     },
     "execution_count": 45,
     "metadata": {},
     "output_type": "execute_result"
    }
   ],
   "source": [
    "%azure.submit EntanglementSwap n=6"
   ]
  },
  {
   "cell_type": "code",
   "execution_count": 46,
   "metadata": {},
   "outputs": [
    {
     "data": {
      "application/x-qsharp-data": "{\"[0,0]\":0.8720000000000007,\"[1,1]\":0.018000000000000002,\"[1,0]\":0.07000000000000005,\"[0,1]\":0.04000000000000002}",
      "text/html": [
       "\r\n",
       "                    <table style=\"table-layout: fixed; width: 100%\">\r\n",
       "                        <thead>\r\n",
       "                            <tr>\r\n",
       "                                <th style=\"text-align: left; width: 25ch\">Result</th>\r\n",
       "                                <th style=\"text-align: left; width: 25ch\">Frequency</th>\r\n",
       "                                <th style=\"text-align: left; width: calc(100% - 25ch - 25ch)\">Histogram</th>\r\n",
       "                            </tr>\r\n",
       "                        </thead>\r\n",
       "                        <tbody>\r\n",
       "                            \r\n",
       "                            <tr>\r\n",
       "                                <td style=\"text-align: left; width: 25ch\">[0,0]</td>\r\n",
       "                                <td style=\"text-align: left; width: 25ch\">0.8720000000000007</td>\r\n",
       "                                <td style=\"text-align: left; width: calc(100% - 25ch - 25ch)\">\r\n",
       "                                    <progress\r\n",
       "                                        max=\"100\"\r\n",
       "                                        value=\"87.20000000000006\"\r\n",
       "                                        style=\"width: 100%;\"\r\n",
       "                                    >\r\n",
       "                                </td>\r\n",
       "                            </tr>\r\n",
       "                        \n",
       "\r\n",
       "                            <tr>\r\n",
       "                                <td style=\"text-align: left; width: 25ch\">[1,1]</td>\r\n",
       "                                <td style=\"text-align: left; width: 25ch\">0.018000000000000002</td>\r\n",
       "                                <td style=\"text-align: left; width: calc(100% - 25ch - 25ch)\">\r\n",
       "                                    <progress\r\n",
       "                                        max=\"100\"\r\n",
       "                                        value=\"1.8000000000000003\"\r\n",
       "                                        style=\"width: 100%;\"\r\n",
       "                                    >\r\n",
       "                                </td>\r\n",
       "                            </tr>\r\n",
       "                        \n",
       "\r\n",
       "                            <tr>\r\n",
       "                                <td style=\"text-align: left; width: 25ch\">[1,0]</td>\r\n",
       "                                <td style=\"text-align: left; width: 25ch\">0.07000000000000005</td>\r\n",
       "                                <td style=\"text-align: left; width: calc(100% - 25ch - 25ch)\">\r\n",
       "                                    <progress\r\n",
       "                                        max=\"100\"\r\n",
       "                                        value=\"7.000000000000004\"\r\n",
       "                                        style=\"width: 100%;\"\r\n",
       "                                    >\r\n",
       "                                </td>\r\n",
       "                            </tr>\r\n",
       "                        \n",
       "\r\n",
       "                            <tr>\r\n",
       "                                <td style=\"text-align: left; width: 25ch\">[0,1]</td>\r\n",
       "                                <td style=\"text-align: left; width: 25ch\">0.04000000000000002</td>\r\n",
       "                                <td style=\"text-align: left; width: calc(100% - 25ch - 25ch)\">\r\n",
       "                                    <progress\r\n",
       "                                        max=\"100\"\r\n",
       "                                        value=\"4.000000000000002\"\r\n",
       "                                        style=\"width: 100%;\"\r\n",
       "                                    >\r\n",
       "                                </td>\r\n",
       "                            </tr>\r\n",
       "                        \r\n",
       "                        </tbody>\r\n",
       "                    </table>\r\n",
       "                "
      ],
      "text/plain": [
       "Result Frequency\r\n",
       "----- --------------------\r\n",
       "[0,0] 0.8720000000000007\r\n",
       "[1,1] 0.018000000000000002\r\n",
       "[1,0] 0.07000000000000005\r\n",
       "[0,1] 0.04000000000000002\r\n"
      ]
     },
     "execution_count": 46,
     "metadata": {},
     "output_type": "execute_result"
    }
   ],
   "source": [
    "%azure.output"
   ]
  },
  {
   "cell_type": "markdown",
   "metadata": {},
   "source": [
    "Wow, the circuit depth and resultant noise has taken its toll on the fidelity of the result! With around an $87%$ fidelity, this means that there is a 1 in 8 chance that the Alice and Bob do not share an entangled state at the end of the teleportation protocol.\n",
    "\n",
    "Unfortunately the Quantinuum backend cannot support $n>6$, but we can already begin to see that gate noise means that there is an upper limit to how extensible the entanglement protocol is, even though in theory it works 100% of the time. In the future, hopefully the gate fidelity improves to the point where we can build such quantum networks across dozens of parties while maintaining extremely high fidelity!"
   ]
  }
 ],
 "metadata": {
  "kernelspec": {
   "display_name": "Q#",
   "language": "qsharp",
   "name": "iqsharp"
  },
  "language_info": {
   "file_extension": ".qs",
   "mimetype": "text/x-qsharp",
   "name": "qsharp",
   "version": "0.14"
  },
  "orig_nbformat": 4
 },
 "nbformat": 4,
 "nbformat_minor": 2
}
